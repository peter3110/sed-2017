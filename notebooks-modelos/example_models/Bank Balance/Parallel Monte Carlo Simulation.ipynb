{
 "cells": [
  {
   "cell_type": "markdown",
   "metadata": {},
   "source": [
    "#Demonstration of parallel monte carlo simulation with pysd\n",
    "\n",
    "This notebook demonstrates the use of ipython's [parallelization capability](http://ipython.org/ipython-doc/2/parallel/parallel_intro.html) to speed up Monte Carlo Analysis of a system dynamics model, using [pysd](https://github.com/JamesPHoughton/pysd)."
   ]
  },
  {
   "cell_type": "code",
   "execution_count": 1,
   "metadata": {},
   "outputs": [],
   "source": [
    "%matplotlib inline\n",
    "import pysd\n",
    "import numpy as np\n",
    "import matplotlib.pyplot as plt"
   ]
  },
  {
   "cell_type": "markdown",
   "metadata": {},
   "source": [
    "The model we'll use for this demonstration represents a bank account that is recieving a constant stream of deposits, and accumulates compound interest. Not a very interesting model, but there you go.\n",
    "\n",
    "![What is up with this image resolution?](Bank_Balance.png)"
   ]
  },
  {
   "cell_type": "code",
   "execution_count": 2,
   "metadata": {},
   "outputs": [
    {
     "data": {
      "text/plain": [
       "{'balance_init': '100', 'deposits': '5', 'interest_rate': '0.001'}"
      ]
     },
     "execution_count": 2,
     "metadata": {},
     "output_type": "execute_result"
    }
   ],
   "source": [
    "model = pysd.read_vensim('bank_balance.mdl')\n",
    "model.get_free_parameters()"
   ]
  },
  {
   "cell_type": "markdown",
   "metadata": {},
   "source": [
    "We'll sample a uniform random value that represents the interest rate. We take 10000 samples for this Monte Carlo Analysis."
   ]
  },
  {
   "cell_type": "code",
   "execution_count": 3,
   "metadata": {},
   "outputs": [
    {
     "name": "stdout",
     "output_type": "stream",
     "text": [
      "[ 0.04859189  0.08973965  0.04714421 ...,  0.07324901  0.09589162\n",
      "  0.00348889]\n"
     ]
    }
   ],
   "source": [
    "interest_rate = np.random.uniform(high=.1, size=10000)\n",
    "print interest_rate"
   ]
  },
  {
   "cell_type": "markdown",
   "metadata": {},
   "source": [
    "#Standard Monte Carlo\n",
    "\n",
    "We'll try and see what the distribution of bank balances is at the end of the simulation, given our distribution of input values."
   ]
  },
  {
   "cell_type": "code",
   "execution_count": 4,
   "metadata": {},
   "outputs": [
    {
     "name": "stdout",
     "output_type": "stream",
     "text": [
      "1 loops, best of 3: 10.6 s per loop\n"
     ]
    },
    {
     "data": {
      "image/png": "[encoded data removed]",
      "text/plain": [
       "<matplotlib.figure.Figure at 0x10f26bdd0>"
      ]
     },
     "metadata": {},
     "output_type": "display_data"
    }
   ],
   "source": [
    "%%timeit\n",
    "\n",
    "final_balances = []\n",
    "for rate in interest_rate:\n",
    "    stocks = model.run(params={'interest_rate':rate})\n",
    "    final_balances.append(stocks['balance'].iloc[-1])\n",
    "    \n",
    "plt.hist(final_balances, bins=40)\n",
    "plt.title('Distribution of final balance for %i interest rates'%len(final_balances));"
   ]
  },
  {
   "cell_type": "markdown",
   "metadata": {},
   "source": [
    "We can alternatly use python list comprehensions in place of the for loop:"
   ]
  },
  {
   "cell_type": "code",
   "execution_count": 5,
   "metadata": {},
   "outputs": [
    {
     "name": "stdout",
     "output_type": "stream",
     "text": [
      "1 loops, best of 3: 11 s per loop\n"
     ]
    },
    {
     "data": {
      "image/png": "[encoded data removed]",
      "text/plain": [
       "<matplotlib.figure.Figure at 0x11007a810>"
      ]
     },
     "metadata": {},
     "output_type": "display_data"
    }
   ],
   "source": [
    "%%timeit\n",
    "\n",
    "final_balances = [model.run(params={'interest_rate':rate})['balance'].iloc[-1] for rate in interest_rate]\n",
    "\n",
    "plt.hist(final_balances, bins=40)\n",
    "plt.title('Distribution of final balance for %i interest rates'%len(final_balances));"
   ]
  },
  {
   "cell_type": "markdown",
   "metadata": {},
   "source": [
    "#Parallel Monte Carlo\n",
    "Now we'll try using ipython's parallelization capability to take full advantage of the machine's computing power. Here I'm distributing the set of runs across the four cores on my computer, but ipython lets you set up clusters spanning multiple cores on multiple computers fairly easily.\n",
    "\n",
    "Before running this code, remember to start a cluster on your local machine using ipython notebook's dashboard.\n",
    "\n",
    "This section of code connects to that cluster, and gives us the hooks for accessing it."
   ]
  },
  {
   "cell_type": "code",
   "execution_count": 6,
   "metadata": {},
   "outputs": [
    {
     "name": "stdout",
     "output_type": "stream",
     "text": [
      "Using 4 cores\n"
     ]
    }
   ],
   "source": [
    "from IPython.parallel import Client\n",
    "cli = Client()\n",
    "dview = cli[:]\n",
    "print \"Using %i cores\"%len(cli.ids)"
   ]
  },
  {
   "cell_type": "markdown",
   "metadata": {},
   "source": [
    "Before we run the simulations, we push a copy of the model to each ipython engine. We then map the randomly generated interest rates between the cores, run the model once for each value, and compile the resulting final balances."
   ]
  },
  {
   "cell_type": "code",
   "execution_count": 7,
   "metadata": {},
   "outputs": [
    {
     "name": "stdout",
     "output_type": "stream",
     "text": [
      "1 loops, best of 3: 2.9 s per loop\n"
     ]
    },
    {
     "data": {
      "image/png": "[encoded data removed]",
      "text/plain": [
       "<matplotlib.figure.Figure at 0x11022a750>"
      ]
     },
     "metadata": {},
     "output_type": "display_data"
    }
   ],
   "source": [
    "%%timeit\n",
    "\n",
    "dview.push({'model':model})\n",
    "result = dview.map(lambda x: model.run(params={'interest_rate':x})['balance'].iloc[-1], interest_rate)\n",
    "\n",
    "plt.hist(result.result, bins=40)\n",
    "plt.title('Distribution of %i input values calculated by %i cores'%(len(interest_rate), len(cli.ids)));"
   ]
  },
  {
   "cell_type": "markdown",
   "metadata": {},
   "source": [
    "Authored by James Houghton:  [james.p.houghton@gmail.com](mailto:james.p.houghton@gmail.com)\n",
    "\n",
    "Using pysd v0.1.1, December 16, 2014"
   ]
  }
 ],
 "metadata": {
  "kernelspec": {
   "display_name": "Python 3",
   "language": "python",
   "name": "python3"
  },
  "language_info": {
   "codemirror_mode": {
    "name": "ipython",
    "version": 3
   },
   "file_extension": ".py",
   "mimetype": "text/x-python",
   "name": "python",
   "nbconvert_exporter": "python",
   "pygments_lexer": "ipython3",
   "version": "3.6.0"
  }
 },
 "nbformat": 4,
 "nbformat_minor": 1
}
