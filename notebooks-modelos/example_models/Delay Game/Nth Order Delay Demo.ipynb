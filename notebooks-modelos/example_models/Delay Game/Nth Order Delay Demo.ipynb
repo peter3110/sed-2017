{
 "metadata": {
  "name": "",
  "signature": "sha256:ed4b8bbfcc0ea92f0e4f3b98e54247c950b92b66aaf2cae1a5bd0f442ab5f0e9"
 },
 "nbformat": 3,
 "nbformat_minor": 0,
 "worksheets": [
  {
   "cells": [
    {
     "cell_type": "markdown",
     "metadata": {},
     "source": [
      "#Nth Order Delay Demo\n",
      "[James Houghton](mailto:houghton@mit.edu)\n",
      "\n",
      "\n",
      "This is a fun demonstration designed to build intuition around the idea that balancing feedback loops with delays lead to oscillation. It uses a vensim model as the 'system' but provides a way for a user to interact with the simulation in realtime - essentially acting as the controller - a balancing feedback loop around the model output.\n",
      "\n",
      "\n",
      "#### The Game\n",
      "The student is asked to use the 'up' and 'down' arrow keys to bring a blue line (the system output) to the value of the dashed red line (the target). However, the inputs from the keyboard go through a delay process (here using either the 'first order delay' model, or the 'third order delay' model). \n",
      "\n",
      "When we run this cell, the student will have 60 seconds to bring the blue line to the level of the red line. "
     ]
    },
    {
     "cell_type": "code",
     "collapsed": false,
     "input": [
      "%pylab\n",
      "import pysd\n",
      "from matplotlib import animation\n",
      "import numpy as np\n",
      "\n",
      "#import the model (need to import each time to reinitialize) \n",
      "#choose one of the following lines:\n",
      "#model = pysd.read_vensim('First_Order_Delay.mdl')\n",
      "model = pysd.read_vensim('Third_Order_Delay.mdl')\n",
      "\n",
      "#set the delay time in the model\n",
      "adjustment_delay = 10\n",
      "#adjustment_delay = .000001\n",
      "\n",
      "\n",
      "#set the animation parameters\n",
      "fps=4\n",
      "seconds=60\n",
      "\n",
      "#set up the figure axes\n",
      "fig, ax = plt.subplots()\n",
      "ax.set_xlim(0,1)\n",
      "ax.set_ylim(-10, 20)\n",
      "title = ax.set_title('Time %.02f'%0)\n",
      "\n",
      "#draw the target line\n",
      "ax.plot([0,1], [10,10], 'r--')\n",
      "\n",
      "#draw the moving line, just for now. We'll change it later\n",
      "line, = ax.plot([0,1], [0,0], lw=2)\n",
      "\n",
      "#set up variables for simulation\n",
      "input_val = 0\n",
      "y = [0]\n",
      "x = [0]\n",
      "stocks = model.initial_values\n",
      "input_collector = [0]\n",
      "stocks_collector = []\n",
      "\n",
      "\n",
      "#capture keyboard input\n",
      "def on_key_press(event):\n",
      "    global input_val\n",
      "    if event.key == 'up':\n",
      "        input_val += .25\n",
      "    elif event.key == 'down':\n",
      "        input_val -= .25\n",
      "    sys.stdout.flush()\n",
      "    \n",
      "fig.canvas.mpl_connect('key_press_event', on_key_press)\n",
      "\n",
      "\n",
      "#make the animation\n",
      "def animate(t):\n",
      "    #make changes to the display\n",
      "    line.set_data([0,1], [y[-1], y[-1]])\n",
      "    title.set_text('Time %.02f'%x[-1])\n",
      "    \n",
      "    #run the simulation forward\n",
      "    global stocks\n",
      "    model.tstart = x[-1]\n",
      "    model.tstop = x[-1]+1./fps\n",
      "    model.initial_values = stocks\n",
      "    stocks = model.run(params={'input':input_val, 'delay':adjustment_delay}).iloc[-1]\n",
      " \n",
      "    #collect values for future plotting\n",
      "    y.append(model.measure(['output'], [model.tstop])['output'].iloc[-1]) \n",
      "    stocks_collector.append(stocks)\n",
      "    x.append(1.0*t/fps)\n",
      "    input_collector.append(input_val)\n",
      "    \n",
      "# call the animator.  \n",
      "# blit=True means only re-draw the parts that have changed.\n",
      "# but, blit doesnt work on the mac backend\n",
      "anim = animation.FuncAnimation(fig, animate, repeat=False,\n",
      "                               frames=seconds*fps, interval=1000./fps, \n",
      "                               blit=False)"
     ],
     "language": "python",
     "metadata": {},
     "outputs": [
      {
       "output_type": "stream",
       "stream": "stdout",
       "text": [
        "Using matplotlib backend: MacOSX\n",
        "Populating the interactive namespace from numpy and matplotlib\n"
       ]
      }
     ],
     "prompt_number": 1
    },
    {
     "cell_type": "markdown",
     "metadata": {},
     "source": [
      "### Display student input vs model output\n",
      "\n",
      "To show how we did, we can plot the input and output over time. Here we start to see the oscillatory behavior (for higher order and longer delays)"
     ]
    },
    {
     "cell_type": "code",
     "collapsed": false,
     "input": [
      "plt.plot(x,input_collector, label='Your Input')\n",
      "plt.plot(x,y, label='Model Response')\n",
      "plt.legend(loc='lower right')\n",
      "plt.xlabel('Time [Seconds]')\n",
      "plt.ylabel('Value')"
     ],
     "language": "python",
     "metadata": {},
     "outputs": [
      {
       "metadata": {},
       "output_type": "pyout",
       "prompt_number": 2,
       "text": [
        "<matplotlib.text.Text at 0x10a700a50>"
       ]
      }
     ],
     "prompt_number": 2
    },
    {
     "cell_type": "markdown",
     "metadata": {},
     "source": [
      "### Display the value of each of the buffer stocks over time\n",
      "\n",
      "If we plot the stock levels over time, we can see (especially for the third order case) how the delay works to smooth out the input values."
     ]
    },
    {
     "cell_type": "code",
     "collapsed": false,
     "input": [
      "import pandas as pd\n",
      "delay_stock_values = pd.DataFrame(stocks_collector)\n",
      "delay_stock_values.plot()\n",
      "plt.xlabel('Time [Seconds]')\n",
      "plt.ylabel('Stock Level')"
     ],
     "language": "python",
     "metadata": {},
     "outputs": [
      {
       "metadata": {},
       "output_type": "pyout",
       "prompt_number": 3,
       "text": [
        "<matplotlib.text.Text at 0x10a6876d0>"
       ]
      }
     ],
     "prompt_number": 3
    }
   ],
   "metadata": {}
  }
 ]
}